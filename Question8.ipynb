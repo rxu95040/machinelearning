{
  "nbformat": 4,
  "nbformat_minor": 0,
  "metadata": {
    "colab": {
      "provenance": [],
      "authorship_tag": "ABX9TyP/mi6bt7/qlpCDC2AB0mma",
      "include_colab_link": true
    },
    "kernelspec": {
      "name": "python3",
      "display_name": "Python 3"
    },
    "language_info": {
      "name": "python"
    }
  },
  "cells": [
    {
      "cell_type": "markdown",
      "metadata": {
        "id": "view-in-github",
        "colab_type": "text"
      },
      "source": [
        "<a href=\"https://colab.research.google.com/github/rxu95040/machinelearning/blob/main/Question8.ipynb\" target=\"_parent\"><img src=\"https://colab.research.google.com/assets/colab-badge.svg\" alt=\"Open In Colab\"/></a>"
      ]
    },
    {
      "cell_type": "code",
      "execution_count": 9,
      "metadata": {
        "colab": {
          "base_uri": "https://localhost:8080/"
        },
        "id": "aK5-uF84Emks",
        "outputId": "f93c977c-968b-4594-93ae-84cba87bdbbf"
      },
      "outputs": [
        {
          "output_type": "stream",
          "name": "stdout",
          "text": [
            "radius = 10\n",
            "area = 3.14*radius**2\n",
            "\"The area of circle with radius 10 is 314 meters square\"\n"
          ]
        }
      ],
      "source": [
        "print(f'radius = 10')\n",
        "print(f'area = 3.14*radius**2')\n",
        "r = 10\n",
        "print(f'\"The area of circle with radius {r} is {int(3.14*r*r)} meters square\"')"
      ]
    }
  ]
}