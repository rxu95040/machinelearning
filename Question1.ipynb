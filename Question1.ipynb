{
  "nbformat": 4,
  "nbformat_minor": 0,
  "metadata": {
    "colab": {
      "provenance": [],
      "authorship_tag": "ABX9TyN4vOCXtQ43j4tUEgg3WS+0",
      "include_colab_link": true
    },
    "kernelspec": {
      "name": "python3",
      "display_name": "Python 3"
    },
    "language_info": {
      "name": "python"
    }
  },
  "cells": [
    {
      "cell_type": "markdown",
      "metadata": {
        "id": "view-in-github",
        "colab_type": "text"
      },
      "source": [
        "<a href=\"https://colab.research.google.com/github/rxu95040/machinelearning/blob/main/Question1.ipynb\" target=\"_parent\"><img src=\"https://colab.research.google.com/assets/colab-badge.svg\" alt=\"Open In Colab\"/></a>"
      ]
    },
    {
      "cell_type": "code",
      "execution_count": 1,
      "metadata": {
        "colab": {
          "base_uri": "https://localhost:8080/"
        },
        "id": "aK5-uF84Emks",
        "outputId": "aac9040e-dae4-4047-c6af-449497dbf995"
      },
      "outputs": [
        {
          "output_type": "stream",
          "name": "stdout",
          "text": [
            "---------------Question 1 -> Point 1-----------------\n",
            "Sorted Array : [19, 19, 20, 22, 24, 24, 24, 25, 25, 26]\n",
            "Minimum val: 19\n",
            "Maximum val: 26\n",
            "\n",
            "---------------Question 1 -> Point 2-----------------\n",
            "Array after adding minAge and maxAge [19, 19, 19, 20, 22, 24, 24, 24, 25, 25, 26, 26]\n",
            "\n",
            "---------------Question 1 -> Point 3-----------------\n",
            "MedianAge : 24.0\n",
            "\n",
            "---------------Question 1 -> Point 4-----------------\n",
            "Average is 22.75\n",
            "\n",
            "---------------Question 1 -> Point 5-----------------\n",
            "Range of ages is 7\n",
            "\n"
          ]
        }
      ],
      "source": [
        "import statistics\n",
        "\n",
        "print('---------------Question 1 -> Point 1-----------------')\n",
        "ages = [19, 22, 19, 24, 20, 25, 26, 24, 25, 24]\n",
        "ages.sort()\n",
        "print(f'Sorted Array : {ages}')\n",
        "minAge = min(ages)\n",
        "maxAge = max(ages)\n",
        "print(f'Minimum val: {minAge}')\n",
        "print(f'Maximum val: {maxAge}')\n",
        "print('')\n",
        "\n",
        "#----------------------------------------------------\n",
        "print('---------------Question 1 -> Point 2-----------------')\n",
        "ages.append(minAge)\n",
        "ages.append(maxAge)\n",
        "ages.sort()\n",
        "print(f'Array after adding minAge and maxAge {ages}')\n",
        "print('')\n",
        "\n",
        "#----------------------------------------------------\n",
        "print('---------------Question 1 -> Point 3-----------------')\n",
        "# middle:int = 0\n",
        "# arrayLen = len(ages)\n",
        "# if arrayLen % 2 == 0:\n",
        "#     middle = int(arrayLen/2) - 1\n",
        "#     medianAge = (ages[middle] + ages[middle+1])/2\n",
        "# else:\n",
        "#     medianAge = ages[arrayLen/2]\n",
        "\n",
        "# medianAge = ages[middle]\n",
        "print(f'MedianAge : {statistics.median(ages)}')\n",
        "print('')\n",
        "\n",
        "#----------------------------------------------------\n",
        "print('---------------Question 1 -> Point 4-----------------')\n",
        "# sum = 0\n",
        "# for item in ages:\n",
        "#     sum += item\n",
        "# average = sum / arrayLen\n",
        "average= sum(ages)/len(ages)\n",
        "print(f'Average is {average}')\n",
        "print('')\n",
        "\n",
        "#----------------------------------------------------\n",
        "print('---------------Question 1 -> Point 5-----------------')\n",
        "range = max(ages) - min(ages)\n",
        "print(f'Range of ages is {range}')\n",
        "print('')\n",
        "\n",
        "#----------------------------------------------------"
      ]
    }
  ]
}