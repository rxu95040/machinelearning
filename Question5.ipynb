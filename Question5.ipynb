{
  "nbformat": 4,
  "nbformat_minor": 0,
  "metadata": {
    "colab": {
      "provenance": [],
      "authorship_tag": "ABX9TyOpUBAfDeyHIq6FzQSxPNHK",
      "include_colab_link": true
    },
    "kernelspec": {
      "name": "python3",
      "display_name": "Python 3"
    },
    "language_info": {
      "name": "python"
    }
  },
  "cells": [
    {
      "cell_type": "markdown",
      "metadata": {
        "id": "view-in-github",
        "colab_type": "text"
      },
      "source": [
        "<a href=\"https://colab.research.google.com/github/rxu95040/machinelearning/blob/main/Question5.ipynb\" target=\"_parent\"><img src=\"https://colab.research.google.com/assets/colab-badge.svg\" alt=\"Open In Colab\"/></a>"
      ]
    },
    {
      "cell_type": "code",
      "execution_count": 5,
      "metadata": {
        "colab": {
          "base_uri": "https://localhost:8080/"
        },
        "id": "aK5-uF84Emks",
        "outputId": "d5dbbbfa-59e6-4bcc-a7be-502fa6479377"
      },
      "outputs": [
        {
          "output_type": "stream",
          "name": "stdout",
          "text": [
            "---------------Question 5 -> Point 1-----------------\n",
            "Area of circle with radius 30 is 2827.4333882308138\n",
            "\n",
            "---------------Question 5 -> Point 2-----------------\n",
            "Circumference of a circle with radius 30 is 188.49555921538757\n",
            "\n",
            "---------------Question 5 -> Point 3-----------------\n",
            "Please enter radius :4\n",
            "Area of circle with radius 4.0 is 50.26548245743669\n",
            "\n"
          ]
        }
      ],
      "source": [
        "import math\n",
        "\n",
        "print('---------------Question 5 -> Point 1-----------------')\n",
        "radius = 30\n",
        "_area_of_circle_ = math.pi * (radius**2)\n",
        "print(f'Area of circle with radius {radius} is {_area_of_circle_}')\n",
        "print('')\n",
        "\n",
        "#----------------------------------------------------\n",
        "print('---------------Question 5 -> Point 2-----------------')\n",
        "radius = 30\n",
        "_circum_of_circle_ = 2 * math.pi * radius\n",
        "print(f'Circumference of a circle with radius {radius} is {_circum_of_circle_}')\n",
        "print('')\n",
        "\n",
        "#----------------------------------------------------\n",
        "print('---------------Question 5 -> Point 3-----------------')\n",
        "radius = float(input(\"Please enter radius :\"))\n",
        "_area_of_circle_ = math.pi * (radius**2)\n",
        "print(f'Area of circle with radius {radius} is {_area_of_circle_}')\n",
        "print('')\n",
        "\n",
        "#----------------------------------------------------"
      ]
    }
  ]
}