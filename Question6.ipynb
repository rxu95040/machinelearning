{
  "nbformat": 4,
  "nbformat_minor": 0,
  "metadata": {
    "colab": {
      "provenance": [],
      "authorship_tag": "ABX9TyOvQQkav4Zk+e3MG5Uxci9O",
      "include_colab_link": true
    },
    "kernelspec": {
      "name": "python3",
      "display_name": "Python 3"
    },
    "language_info": {
      "name": "python"
    }
  },
  "cells": [
    {
      "cell_type": "markdown",
      "metadata": {
        "id": "view-in-github",
        "colab_type": "text"
      },
      "source": [
        "<a href=\"https://colab.research.google.com/github/rxu95040/machinelearning/blob/main/Question6.ipynb\" target=\"_parent\"><img src=\"https://colab.research.google.com/assets/colab-badge.svg\" alt=\"Open In Colab\"/></a>"
      ]
    },
    {
      "cell_type": "code",
      "execution_count": 13,
      "metadata": {
        "colab": {
          "base_uri": "https://localhost:8080/"
        },
        "id": "aK5-uF84Emks",
        "outputId": "7cd567a9-1791-49b9-b17a-0d51a5c162e9"
      },
      "outputs": [
        {
          "output_type": "stream",
          "name": "stdout",
          "text": [
            "Unique words are : \n",
            "{'inspire', 'people', 'to', 'teach', 'love', 'and', 'a', 'teacher', 'am', 'I'}\n"
          ]
        }
      ],
      "source": [
        "text = \"I am a teacher and I love to inspire and teach people\"\n",
        "resultSet = set()\n",
        "for item in text.split(' '):\n",
        "    resultSet.add(item)\n",
        "print(f'Unique words are : \\n{resultSet}')"
      ]
    }
  ]
}