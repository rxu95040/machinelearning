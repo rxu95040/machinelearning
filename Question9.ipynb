{
  "nbformat": 4,
  "nbformat_minor": 0,
  "metadata": {
    "colab": {
      "provenance": [],
      "authorship_tag": "ABX9TyM5Gv+tUAcAoI45xiGDMXEy",
      "include_colab_link": true
    },
    "kernelspec": {
      "name": "python3",
      "display_name": "Python 3"
    },
    "language_info": {
      "name": "python"
    }
  },
  "cells": [
    {
      "cell_type": "markdown",
      "metadata": {
        "id": "view-in-github",
        "colab_type": "text"
      },
      "source": [
        "<a href=\"https://colab.research.google.com/github/rxu95040/machinelearning/blob/main/Question9.ipynb\" target=\"_parent\"><img src=\"https://colab.research.google.com/assets/colab-badge.svg\" alt=\"Open In Colab\"/></a>"
      ]
    },
    {
      "cell_type": "code",
      "execution_count": 11,
      "metadata": {
        "colab": {
          "base_uri": "https://localhost:8080/"
        },
        "id": "aK5-uF84Emks",
        "outputId": "542eafb7-01f4-4287-d50d-ed7d67a6cf21"
      },
      "outputs": [
        {
          "output_type": "stream",
          "name": "stdout",
          "text": [
            "49 52 67 68\n",
            "Values are: [22.22, 23.58, 30.39, 30.84]\n"
          ]
        }
      ],
      "source": [
        "L1=[int(num) for num in input().split(\" \")]\n",
        "W_kg=[]\n",
        "for i in L1:\n",
        "    W_kg.append(round(i / 2.205, 2))\n",
        "print (\"Values are:\",W_kg)"
      ]
    }
  ]
}