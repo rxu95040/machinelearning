{
  "nbformat": 4,
  "nbformat_minor": 0,
  "metadata": {
    "colab": {
      "provenance": [],
      "authorship_tag": "ABX9TyPHTyjr+/gwrxZYK9q0oLPI",
      "include_colab_link": true
    },
    "kernelspec": {
      "name": "python3",
      "display_name": "Python 3"
    },
    "language_info": {
      "name": "python"
    }
  },
  "cells": [
    {
      "cell_type": "markdown",
      "metadata": {
        "id": "view-in-github",
        "colab_type": "text"
      },
      "source": [
        "<a href=\"https://colab.research.google.com/github/rxu95040/machinelearning/blob/main/Question7.ipynb\" target=\"_parent\"><img src=\"https://colab.research.google.com/assets/colab-badge.svg\" alt=\"Open In Colab\"/></a>"
      ]
    },
    {
      "cell_type": "code",
      "execution_count": 7,
      "metadata": {
        "colab": {
          "base_uri": "https://localhost:8080/"
        },
        "id": "aK5-uF84Emks",
        "outputId": "abc1d8f8-67ec-4d0a-fe23-9ab0f3f78fc6"
      },
      "outputs": [
        {
          "output_type": "stream",
          "name": "stdout",
          "text": [
            "Name\t Age\tCountry\tCity\t\n",
            "Asabeneh 250\tFinland\tHelsinki\n"
          ]
        }
      ],
      "source": [
        "\n",
        "text = \"Name\\t Age\\tCountry\\tCity\\t\\nAsabeneh 250\\tFinland\\tHelsinki\"\n",
        "print(text)\n"
      ]
    }
  ]
}